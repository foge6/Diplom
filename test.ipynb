{
 "cells": [
  {
   "cell_type": "code",
   "execution_count": 1,
   "metadata": {},
   "outputs": [
    {
     "name": "stdout",
     "output_type": "stream",
     "text": [
      "<Response [200]>\n",
      "{'id': 1, 'self': 'https://api.tracker.yandex.net/v2/queues/TEST/triggers/1', 'queue': {'self': 'https://api.tracker.yandex.net/v2/queues/TEST', 'id': '1', 'key': 'TEST', 'display': 'Test'}, 'name': 'Привет мир!', 'order': '0.0001', 'actions': [{'type': 'CreateComment', 'id': 1, 'text': 'Привет мир!', 'fromRobot': False}], 'conditions': [{'type': 'Event.create'}], 'version': 1, 'active': True, 'skipFailures': True}\n"
     ]
    }
   ],
   "source": [
    "import requests\n",
    "def my_function():\n",
    "    session = requests.Session()\n",
    "    url = \"https://api.tracker.yandex.net/v2/queues/TEST/triggers/1\"\n",
    "    head =  {\n",
    "        \"Authorization\": \"OAuth y0_AgAAAAAuFQarAAuRQQAAAAEA45PlAAC5YoUP8OFNWpGv7eGpzDkeChaPgQ\",\n",
    "        \"X-Cloud-Org-ID\": \"bpfqhlifg8bi7muja4k6\"\n",
    "    }\n",
    "    session.headers.update(head)\n",
    "    response = session.get(url)\n",
    "    data = response.json()\n",
    "    print(response)\n",
    "    print(data)\n",
    "\n",
    "\n",
    "my_function()"
   ]
  },
  {
   "cell_type": "code",
   "execution_count": 83,
   "metadata": {},
   "outputs": [
    {
     "name": "stdout",
     "output_type": "stream",
     "text": [
      "<Response [200]>\n",
      "{'id': 4, 'self': 'https://api.tracker.yandex.net/v2/queues/TEST/triggers/4', 'queue': {'self': 'https://api.tracker.yandex.net/v2/queues/TEST', 'id': '1', 'key': 'TEST', 'display': 'Test'}, 'name': 'Привет мир', 'order': '0.0004', 'actions': [{'type': 'CreateComment', 'id': 1, 'text': 'Привет мир!', 'fromRobot': False}], 'version': 1, 'active': True, 'skipFailures': True}\n"
     ]
    }
   ],
   "source": [
    "def my_function():\n",
    "    session = requests.Session()\n",
    "    url = \"https://api.tracker.yandex.net/v2/queues/TEST/triggers\"\n",
    "    json = {'name': 'Привет мир', \n",
    "            'actions': [{'type': 'CreateComment', 'text': 'Привет мир!', 'fromRobot': False}], \n",
    "            }\n",
    "    head =  {\n",
    "        \"Authorization\": \"OAuth y0_AgAAAAAuFQarAAuRQQAAAAEA45PlAAC5YoUP8OFNWpGv7eGpzDkeChaPgQ\",\n",
    "        \"X-Cloud-Org-ID\": 'bpfqhlifg8bi7muja4k6'\n",
    "    }\n",
    "    session.headers.update(head)\n",
    "    response = session.post(url, json=json)\n",
    "    data = response.json()\n",
    "    print(response)\n",
    "    print(data) \n",
    "my_function()"
   ]
  },
  {
   "cell_type": "code",
   "execution_count": 105,
   "metadata": {},
   "outputs": [
    {
     "name": "stdout",
     "output_type": "stream",
     "text": [
      "<Response [200]>\n",
      "{'id': 5, 'self': 'https://api.tracker.yandex.net/v2/queues/TEST/triggers/5', 'queue': {'self': 'https://api.tracker.yandex.net/v2/queues/TEST', 'id': '1', 'key': 'TEST', 'display': 'Test'}, 'name': 'ttest', 'order': '0.0005', 'actions': [{'type': 'Webhook', 'id': 1, 'endpoint': 'https://api.tracker.yandex.net/v2/queues/TEST/triggers', 'method': 'POST', 'contentType': 'application/json; charset=UTF-8', 'headers': {'X-Cloud-Org-ID': 'bpfqhlifg8bi7muja4k6'}, 'authContext': {'headerName': 'Authorization', 'type': 'oauth', 'accessToken': '********', 'tokenType': 'OAuth', 'refreshToken': '********'}, 'body': '{\\'type\\':\\'Update\\', \"update\":[{ \"field\": \"Описание\", \"update\": {\"set\":\"Привет мир!\"} }] }'}], 'conditions': [{'type': 'Event.create'}], 'version': 1, 'active': True, 'skipFailures': True}\n"
     ]
    }
   ],
   "source": [
    "import requests\n",
    "def my_function():\n",
    "    session = requests.Session()\n",
    "    url = \"https://api.tracker.yandex.net/v2/queues/TEST/triggers/5\"\n",
    "    head =  {\n",
    "        \"Authorization\": \"OAuth y0_AgAAAAAuFQarAAuRQQAAAAEA45PlAAC5YoUP8OFNWpGv7eGpzDkeChaPgQ\",\n",
    "        \"X-Cloud-Org-ID\": 'bpfqhlifg8bi7muja4k6'\n",
    "    }\n",
    "    session.headers.update(head)\n",
    "    response = session.get(url)\n",
    "    data = response.json()\n",
    "    print(response)\n",
    "    print(data)\n",
    "\n",
    "\n",
    "my_function()"
   ]
  },
  {
   "cell_type": "code",
   "execution_count": 17,
   "metadata": {},
   "outputs": [
    {
     "name": "stdout",
     "output_type": "stream",
     "text": [
      "<Response [400]>\n",
      "{'errors': {'actions.body': 'Incorrect data format.'}, 'errorMessages': ['Illegal parameter'], 'statusCode': 400}\n"
     ]
    }
   ],
   "source": [
    "def my_function():\n",
    "    session = requests.Session()\n",
    "    url = \"https://api.tracker.yandex.net/v2/queues/TEST/triggers\"\n",
    "    json = {'name': 'Привет мир Test', \n",
    "            'actions': [{\n",
    "                'type': 'Webhook', \n",
    "                'endpoint': 'https://api.tracker.yandex.net/v2/queues/TEST/triggers', \n",
    "                'authContext': {\"headerName\": \"Authorization\", \"type\": \"oauth\", \"accessToken\": \"y0_AgAAAAAuFQarAAuRQQAAAAEA45PlAAC5YoUP8OFNWpGv7eGpzDkeChaPgQ\", \"tokenType\": \"OAuth\"}, \n",
    "                'method':\"POST\",\n",
    "                \"contentType\":\"application/json\",\n",
    "                \"body\": {\"type\":\"Update\", \"update\":[{ \"field\": \"Описание\", \"update\": \"null\" }] }}], \n",
    "                'conditions': [{'type': 'Event.create'}],\n",
    "            }\n",
    "    head =  {\n",
    "        \"Authorization\": \"OAuth y0_AgAAAAAuFQarAAuRQQAAAAEA45PlAAC5YoUP8OFNWpGv7eGpzDkeChaPgQ\",\n",
    "        \"X-Cloud-Org-ID\": 'bpfqhlifg8bi7muja4k6'\n",
    "    }\n",
    "    session.headers.update(head)\n",
    "    response = session.post(url, json=json)\n",
    "    data = response.json()\n",
    "    print(response)\n",
    "    print(data) \n",
    "my_function()"
   ]
  },
  {
   "cell_type": "code",
   "execution_count": 6,
   "metadata": {},
   "outputs": [
    {
     "name": "stdout",
     "output_type": "stream",
     "text": [
      "<Response [400]>\n",
      "{'errors': {'actions.update': 'Incorrect data format.'}, 'errorMessages': ['Illegal parameter'], 'statusCode': 400}\n"
     ]
    }
   ],
   "source": [
    "def my_function():\n",
    "    session = requests.Session()\n",
    "    url = \"https://api.tracker.yandex.net/v2/queues/TEST/triggers\"\n",
    "    json = {'name': 'Привет мир Test', \n",
    "            'actions': [{\n",
    "                \"type\": \"Update\",\n",
    "                \"update\":[{\"field\":\"Description\", \"update\": \"\"}]\n",
    "                }\n",
    "                ], \n",
    "            }\n",
    "    head =  {\n",
    "        \"Authorization\": \"OAuth y0_AgAAAAAuFQarAAuRQQAAAAEA45PlAAC5YoUP8OFNWpGv7eGpzDkeChaPgQ\",\n",
    "        \"X-Cloud-Org-ID\": 'bpfqhlifg8bi7muja4k6'\n",
    "    }\n",
    "    session.headers.update(head)\n",
    "    response = session.post(url, json=json)\n",
    "    data = response.json()\n",
    "    print(response)\n",
    "    print(data) \n",
    "my_function()"
   ]
  }
 ],
 "metadata": {
  "kernelspec": {
   "display_name": "Python 3",
   "language": "python",
   "name": "python3"
  },
  "language_info": {
   "codemirror_mode": {
    "name": "ipython",
    "version": 3
   },
   "file_extension": ".py",
   "mimetype": "text/x-python",
   "name": "python",
   "nbconvert_exporter": "python",
   "pygments_lexer": "ipython3",
   "version": "3.11.2"
  }
 },
 "nbformat": 4,
 "nbformat_minor": 2
}
